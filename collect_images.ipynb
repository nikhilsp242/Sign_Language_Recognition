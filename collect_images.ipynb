{
 "cells": [
  {
   "cell_type": "code",
   "execution_count": 1,
   "id": "0c090356",
   "metadata": {},
   "outputs": [],
   "source": [
    "import cv2  #opencv\n",
    "import os\n",
    "import time \n",
    "import uuid  #to name image files"
   ]
  },
  {
   "cell_type": "code",
   "execution_count": 2,
   "id": "dc5f4308",
   "metadata": {},
   "outputs": [],
   "source": [
    "IMAGES_PATH = 'C:\\MP3\\RealTimeObjectDetection-main\\Tensorflow\\workspace\\images\\dataset'"
   ]
  },
  {
   "cell_type": "code",
   "execution_count": 5,
   "id": "2fb7b627",
   "metadata": {},
   "outputs": [],
   "source": [
    "labels = ['A','S','L','R']\n",
    "number_imgs = 5"
   ]
  },
  {
   "cell_type": "code",
   "execution_count": 6,
   "id": "4526b6ae",
   "metadata": {},
   "outputs": [
    {
     "name": "stdout",
     "output_type": "stream",
     "text": [
      "collecting images for A\n",
      "collecting images for S\n",
      "collecting images for L\n",
      "collecting images for R\n"
     ]
    }
   ],
   "source": [
    "for label in labels:\n",
    "    !mkdir {'C:\\MP3\\RealTimeObjectDetection-main\\RealTimeObjectDetection-main\\Tensorflow\\workspace\\images\\dataset\\\\'+label}\n",
    "    cap = cv2.VideoCapture(0)\n",
    "    print('collecting images for {}'.format(label))\n",
    "    time.sleep(5)\n",
    "    for imgnum in range(number_imgs):\n",
    "        ret, frame = cap.read()\n",
    "        imgname = os.path.join(IMAGES_PATH,label, label+'.'+'{}.jpg'.format(str(uuid.uuid1())))\n",
    "        cv2.imwrite(imgname,frame)\n",
    "        cv2.imshow('frame',frame)\n",
    "        time.sleep(2)\n",
    "            \n",
    "        if cv2.waitKey(1) & 0xFF == ord('q'):\n",
    "            break\n",
    "    cap.release()"
   ]
  },
  {
   "cell_type": "code",
   "execution_count": 7,
   "id": "ff7c780e",
   "metadata": {},
   "outputs": [],
   "source": [
    "cv2.destroyAllWindows()"
   ]
  },
  {
   "cell_type": "code",
   "execution_count": null,
   "id": "413a5f0d",
   "metadata": {},
   "outputs": [],
   "source": []
  }
 ],
 "metadata": {
  "kernelspec": {
   "display_name": "Python 3 (ipykernel)",
   "language": "python",
   "name": "python3"
  },
  "language_info": {
   "codemirror_mode": {
    "name": "ipython",
    "version": 3
   },
   "file_extension": ".py",
   "mimetype": "text/x-python",
   "name": "python",
   "nbconvert_exporter": "python",
   "pygments_lexer": "ipython3",
   "version": "3.9.0"
  }
 },
 "nbformat": 4,
 "nbformat_minor": 5
}
